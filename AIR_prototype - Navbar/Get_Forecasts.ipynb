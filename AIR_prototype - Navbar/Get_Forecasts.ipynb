{
 "cells": [
  {
   "cell_type": "code",
   "execution_count": 2,
   "metadata": {
    "id": "KIxQOv9lkdHv"
   },
   "outputs": [],
   "source": [
    "#import required libraries\n",
    "import pandas as pd\n",
    "import numpy as np\n",
    "import os\n",
    "#!pip install folium\n",
    "import folium\n",
    "from datetime import datetime"
   ]
  },
  {
   "cell_type": "code",
   "execution_count": 3,
   "metadata": {
    "id": "ZXvij0A1khGi"
   },
   "outputs": [],
   "source": [
    "ct = datetime.utcnow()\n",
    "#if(ct.minute == 15):\n",
    "  #url = f'https://www.airnowapi.org/aq/data/?startDate={ct.year}-{ct.month}-{ct.day-1}T{ct.hour%24}&endDate={ct.year}-{ct.month}-{ct.day}T{ct.hour}&parameters=OZONE,PM25,PM10,CO,NO2,SO2&BBOX=-127.369132,25.826774,-51.783195,49.401810&dataType=A&format=text/csv&verbose=1&monitorType=2&includerawconcentrations=1&API_KEY=211FD3EB-9CFC-47AE-9657-FD48194D0382'\n",
    "  #data = pd.read_csv(url, header=None)\n",
    "url = f'https://www.airnowapi.org/aq/data/?startDate={ct.year}-{ct.month}-{ct.day}T{ct.hour}&endDate={ct.year}-{ct.month}-{ct.day}T{ct.hour}&parameters=OZONE,PM25,PM10,CO,NO2,SO2&BBOX=-127.369132,25.826774,-51.783195,49.401810&dataType=A&format=text/csv&verbose=1&monitorType=2&includerawconcentrations=1&API_KEY=211FD3EB-9CFC-47AE-9657-FD48194D0382'\n",
    "data = pd.read_csv(url, header=None)\n",
    "#data"
   ]
  },
  {
   "cell_type": "code",
   "execution_count": 4,
   "metadata": {
    "colab": {
     "base_uri": "https://localhost:8080/",
     "height": 791
    },
    "id": "B-wbs0uslwFp",
    "outputId": "8d30076c-2b21-4348-f995-2ea2e692068e"
   },
   "outputs": [
    {
     "data": {
      "text/html": [
       "<div>\n",
       "<style scoped>\n",
       "    .dataframe tbody tr th:only-of-type {\n",
       "        vertical-align: middle;\n",
       "    }\n",
       "\n",
       "    .dataframe tbody tr th {\n",
       "        vertical-align: top;\n",
       "    }\n",
       "\n",
       "    .dataframe thead th {\n",
       "        text-align: right;\n",
       "    }\n",
       "</style>\n",
       "<table border=\"1\" class=\"dataframe\">\n",
       "  <thead>\n",
       "    <tr style=\"text-align: right;\">\n",
       "      <th></th>\n",
       "      <th>0</th>\n",
       "      <th>1</th>\n",
       "      <th>2</th>\n",
       "      <th>3</th>\n",
       "      <th>4</th>\n",
       "      <th>5</th>\n",
       "      <th>6</th>\n",
       "      <th>7</th>\n",
       "      <th>8</th>\n",
       "      <th>9</th>\n",
       "      <th>10</th>\n",
       "    </tr>\n",
       "  </thead>\n",
       "  <tbody>\n",
       "    <tr>\n",
       "      <th>0</th>\n",
       "      <td>49.261014</td>\n",
       "      <td>-124.806628</td>\n",
       "      <td>2020-11-07T00:00</td>\n",
       "      <td>PM2.5</td>\n",
       "      <td>8.0000</td>\n",
       "      <td>26</td>\n",
       "      <td>1</td>\n",
       "      <td>Port Alberni Elementary</td>\n",
       "      <td>British Columbia Ministry of Environment</td>\n",
       "      <td>000102602</td>\n",
       "      <td>124000102602</td>\n",
       "    </tr>\n",
       "    <tr>\n",
       "      <th>1</th>\n",
       "      <td>48.286700</td>\n",
       "      <td>-124.620300</td>\n",
       "      <td>2020-11-07T00:00</td>\n",
       "      <td>OZONE</td>\n",
       "      <td>29.1360</td>\n",
       "      <td>28</td>\n",
       "      <td>1</td>\n",
       "      <td>Cheeka Peak</td>\n",
       "      <td>Washington Department of Ecology</td>\n",
       "      <td>530090013</td>\n",
       "      <td>840530090013</td>\n",
       "    </tr>\n",
       "    <tr>\n",
       "      <th>2</th>\n",
       "      <td>48.286700</td>\n",
       "      <td>-124.620300</td>\n",
       "      <td>2020-11-07T00:00</td>\n",
       "      <td>PM2.5</td>\n",
       "      <td>1.7000</td>\n",
       "      <td>6</td>\n",
       "      <td>1</td>\n",
       "      <td>Cheeka Peak</td>\n",
       "      <td>Washington Department of Ecology</td>\n",
       "      <td>530090013</td>\n",
       "      <td>840530090013</td>\n",
       "    </tr>\n",
       "    <tr>\n",
       "      <th>3</th>\n",
       "      <td>48.286700</td>\n",
       "      <td>-124.620300</td>\n",
       "      <td>2020-11-07T00:00</td>\n",
       "      <td>SO2</td>\n",
       "      <td>0.1000</td>\n",
       "      <td>0</td>\n",
       "      <td>1</td>\n",
       "      <td>Cheeka Peak</td>\n",
       "      <td>Washington Department of Ecology</td>\n",
       "      <td>530090013</td>\n",
       "      <td>840530090013</td>\n",
       "    </tr>\n",
       "    <tr>\n",
       "      <th>4</th>\n",
       "      <td>48.286700</td>\n",
       "      <td>-124.620300</td>\n",
       "      <td>2020-11-07T00:00</td>\n",
       "      <td>CO</td>\n",
       "      <td>0.1262</td>\n",
       "      <td>-999</td>\n",
       "      <td>0</td>\n",
       "      <td>Cheeka Peak</td>\n",
       "      <td>Washington Department of Ecology</td>\n",
       "      <td>530090013</td>\n",
       "      <td>840530090013</td>\n",
       "    </tr>\n",
       "    <tr>\n",
       "      <th>...</th>\n",
       "      <td>...</td>\n",
       "      <td>...</td>\n",
       "      <td>...</td>\n",
       "      <td>...</td>\n",
       "      <td>...</td>\n",
       "      <td>...</td>\n",
       "      <td>...</td>\n",
       "      <td>...</td>\n",
       "      <td>...</td>\n",
       "      <td>...</td>\n",
       "      <td>...</td>\n",
       "    </tr>\n",
       "    <tr>\n",
       "      <th>2963</th>\n",
       "      <td>49.019400</td>\n",
       "      <td>-55.802800</td>\n",
       "      <td>2020-11-07T00:00</td>\n",
       "      <td>OZONE</td>\n",
       "      <td>31.0000</td>\n",
       "      <td>27</td>\n",
       "      <td>1</td>\n",
       "      <td>Grand Falls Windsor</td>\n",
       "      <td>Newfoundland &amp; Labrador DEC</td>\n",
       "      <td>000010501</td>\n",
       "      <td>124000010501</td>\n",
       "    </tr>\n",
       "    <tr>\n",
       "      <th>2964</th>\n",
       "      <td>47.098991</td>\n",
       "      <td>-55.198521</td>\n",
       "      <td>2020-11-07T00:00</td>\n",
       "      <td>PM2.5</td>\n",
       "      <td>9.0000</td>\n",
       "      <td>38</td>\n",
       "      <td>1</td>\n",
       "      <td>Marystown/Burin</td>\n",
       "      <td>Environment Canada</td>\n",
       "      <td>000010901</td>\n",
       "      <td>124000010901</td>\n",
       "    </tr>\n",
       "    <tr>\n",
       "      <th>2965</th>\n",
       "      <td>47.652800</td>\n",
       "      <td>-52.816700</td>\n",
       "      <td>2020-11-07T00:00</td>\n",
       "      <td>OZONE</td>\n",
       "      <td>34.0000</td>\n",
       "      <td>30</td>\n",
       "      <td>1</td>\n",
       "      <td>St. John's</td>\n",
       "      <td>Newfoundland &amp; Labrador DEC</td>\n",
       "      <td>000010102</td>\n",
       "      <td>124000010102</td>\n",
       "    </tr>\n",
       "    <tr>\n",
       "      <th>2966</th>\n",
       "      <td>47.505000</td>\n",
       "      <td>-52.794700</td>\n",
       "      <td>2020-11-07T00:00</td>\n",
       "      <td>OZONE</td>\n",
       "      <td>36.0000</td>\n",
       "      <td>33</td>\n",
       "      <td>1</td>\n",
       "      <td>Mount Pearl</td>\n",
       "      <td>Newfoundland &amp; Labrador DEC</td>\n",
       "      <td>000010401</td>\n",
       "      <td>124000010401</td>\n",
       "    </tr>\n",
       "    <tr>\n",
       "      <th>2967</th>\n",
       "      <td>47.505000</td>\n",
       "      <td>-52.794700</td>\n",
       "      <td>2020-11-07T00:00</td>\n",
       "      <td>PM2.5</td>\n",
       "      <td>6.0000</td>\n",
       "      <td>24</td>\n",
       "      <td>1</td>\n",
       "      <td>Mount Pearl</td>\n",
       "      <td>Newfoundland &amp; Labrador DEC</td>\n",
       "      <td>000010401</td>\n",
       "      <td>124000010401</td>\n",
       "    </tr>\n",
       "  </tbody>\n",
       "</table>\n",
       "<p>2968 rows × 11 columns</p>\n",
       "</div>"
      ],
      "text/plain": [
       "             0           1                 2      3        4    5   6   \\\n",
       "0     49.261014 -124.806628  2020-11-07T00:00  PM2.5   8.0000   26   1   \n",
       "1     48.286700 -124.620300  2020-11-07T00:00  OZONE  29.1360   28   1   \n",
       "2     48.286700 -124.620300  2020-11-07T00:00  PM2.5   1.7000    6   1   \n",
       "3     48.286700 -124.620300  2020-11-07T00:00    SO2   0.1000    0   1   \n",
       "4     48.286700 -124.620300  2020-11-07T00:00     CO   0.1262 -999   0   \n",
       "...         ...         ...               ...    ...      ...  ...  ..   \n",
       "2963  49.019400  -55.802800  2020-11-07T00:00  OZONE  31.0000   27   1   \n",
       "2964  47.098991  -55.198521  2020-11-07T00:00  PM2.5   9.0000   38   1   \n",
       "2965  47.652800  -52.816700  2020-11-07T00:00  OZONE  34.0000   30   1   \n",
       "2966  47.505000  -52.794700  2020-11-07T00:00  OZONE  36.0000   33   1   \n",
       "2967  47.505000  -52.794700  2020-11-07T00:00  PM2.5   6.0000   24   1   \n",
       "\n",
       "                           7                                         8   \\\n",
       "0     Port Alberni Elementary  British Columbia Ministry of Environment   \n",
       "1                 Cheeka Peak          Washington Department of Ecology   \n",
       "2                 Cheeka Peak          Washington Department of Ecology   \n",
       "3                 Cheeka Peak          Washington Department of Ecology   \n",
       "4                 Cheeka Peak          Washington Department of Ecology   \n",
       "...                       ...                                       ...   \n",
       "2963      Grand Falls Windsor               Newfoundland & Labrador DEC   \n",
       "2964          Marystown/Burin                        Environment Canada   \n",
       "2965               St. John's               Newfoundland & Labrador DEC   \n",
       "2966              Mount Pearl               Newfoundland & Labrador DEC   \n",
       "2967              Mount Pearl               Newfoundland & Labrador DEC   \n",
       "\n",
       "             9             10  \n",
       "0     000102602  124000102602  \n",
       "1     530090013  840530090013  \n",
       "2     530090013  840530090013  \n",
       "3     530090013  840530090013  \n",
       "4     530090013  840530090013  \n",
       "...         ...           ...  \n",
       "2963  000010501  124000010501  \n",
       "2964  000010901  124000010901  \n",
       "2965  000010102  124000010102  \n",
       "2966  000010401  124000010401  \n",
       "2967  000010401  124000010401  \n",
       "\n",
       "[2968 rows x 11 columns]"
      ]
     },
     "execution_count": 4,
     "metadata": {},
     "output_type": "execute_result"
    }
   ],
   "source": [
    "data"
   ]
  },
  {
   "cell_type": "code",
   "execution_count": 5,
   "metadata": {
    "id": "EStwjbPtlwca"
   },
   "outputs": [],
   "source": [
    "#data.columns = ['Latitude', 'Longitude', 'DateObserved', 'ParameterName', 'Concentration','AQI', 'CategoryNumber', 'ReportingArea', 'Source', 'SiteNumber', 'SiteNumberExtension']\n",
    "data.columns = ['Latitude', 'Longitude', 'DateObserved', 'ParameterName', 'Concentration','AQI', 'CategoryNumber', 'ReportingArea', 'Source', 'SiteNumber', 'SiteNumberExtension']\n",
    "\n",
    "data.sort_values('Latitude')\n",
    "\n",
    "#add category names based on the category number\n",
    "category_names = []\n",
    "\n",
    "for i in range(0,len(data)):\n",
    "  if(data.loc[i,'AQI']<=50):\n",
    "    category_names.append('Good')\n",
    "  elif(data.loc[i,'AQI']<=100):\n",
    "    category_names.append('Moderate')\n",
    "  elif(data.loc[i,'AQI']<=150):\n",
    "    category_names.append('Unhealthy for Sensitive Groups')\n",
    "  elif(data.loc[i,'AQI']<=200):\n",
    "    category_names.append('Unhealthy')\n",
    "  elif(data.loc[i,'AQI']<=300):\n",
    "    category_names.append('Very Unhealthy')\n",
    "  elif(data.loc[i,'AQI']<=500):\n",
    "    category_names.append('Hazardous')\n",
    "  else:\n",
    "    category_names.append('Remove')\n",
    "\n",
    "category_names\n",
    "data.insert(7,'CategoryName',category_names,True)"
   ]
  },
  {
   "cell_type": "code",
   "execution_count": null,
   "metadata": {
    "id": "N1xKSuftrBGg"
   },
   "outputs": [],
   "source": []
  },
  {
   "cell_type": "code",
   "execution_count": 10,
   "metadata": {
    "colab": {
     "base_uri": "https://localhost:8080/"
    },
    "id": "7zcRhOjomTiq",
    "outputId": "5f8407a4-fa87-4667-df22-29d1dd7ff9ac"
   },
   "outputs": [
    {
     "data": {
      "text/plain": [
       "2966"
      ]
     },
     "execution_count": 10,
     "metadata": {},
     "output_type": "execute_result"
    }
   ],
   "source": [
    "len(category_names)"
   ]
  },
  {
   "cell_type": "code",
   "execution_count": 6,
   "metadata": {
    "id": "upIX5ULKmUin"
   },
   "outputs": [],
   "source": [
    "#removing irrelevant category numbers\n",
    "data = data[data['CategoryNumber']!=0]\n",
    "data = data[data['CategoryName']!='Remove']"
   ]
  },
  {
   "cell_type": "code",
   "execution_count": 7,
   "metadata": {
    "id": "tUKaaffSrDqG"
   },
   "outputs": [],
   "source": [
    "#lat_lon = data.loc[0][0:2]\n",
    "lat_lon = pd.DataFrame()\n",
    "lat_lon = lat_lon.append(data[data.columns[0:2]])"
   ]
  },
  {
   "cell_type": "code",
   "execution_count": 8,
   "metadata": {
    "id": "i5VxcztMrSzW"
   },
   "outputs": [],
   "source": [
    "lat_lon = lat_lon.drop_duplicates()"
   ]
  },
  {
   "cell_type": "code",
   "execution_count": 106,
   "metadata": {
    "id": "1eVHLaUmsR7N"
   },
   "outputs": [],
   "source": [
    "lat_lon.to_pickle('lat_lon.pkl')"
   ]
  },
  {
   "cell_type": "code",
   "execution_count": 9,
   "metadata": {
    "colab": {
     "base_uri": "https://localhost:8080/",
     "height": 791
    },
    "id": "6ytcWo1bmy8i",
    "outputId": "de8d6df2-2a9f-4219-d132-6908aa9bbbb2"
   },
   "outputs": [
    {
     "data": {
      "text/html": [
       "<div>\n",
       "<style scoped>\n",
       "    .dataframe tbody tr th:only-of-type {\n",
       "        vertical-align: middle;\n",
       "    }\n",
       "\n",
       "    .dataframe tbody tr th {\n",
       "        vertical-align: top;\n",
       "    }\n",
       "\n",
       "    .dataframe thead th {\n",
       "        text-align: right;\n",
       "    }\n",
       "</style>\n",
       "<table border=\"1\" class=\"dataframe\">\n",
       "  <thead>\n",
       "    <tr style=\"text-align: right;\">\n",
       "      <th></th>\n",
       "      <th>Latitude</th>\n",
       "      <th>Longitude</th>\n",
       "      <th>DateObserved</th>\n",
       "      <th>ParameterName</th>\n",
       "      <th>Concentration</th>\n",
       "      <th>AQI</th>\n",
       "      <th>CategoryNumber</th>\n",
       "      <th>CategoryName</th>\n",
       "      <th>ReportingArea</th>\n",
       "      <th>Source</th>\n",
       "      <th>SiteNumber</th>\n",
       "      <th>SiteNumberExtension</th>\n",
       "    </tr>\n",
       "  </thead>\n",
       "  <tbody>\n",
       "    <tr>\n",
       "      <th>0</th>\n",
       "      <td>49.261014</td>\n",
       "      <td>-124.806628</td>\n",
       "      <td>2020-11-07T00:00</td>\n",
       "      <td>PM2.5</td>\n",
       "      <td>8.000</td>\n",
       "      <td>26</td>\n",
       "      <td>1</td>\n",
       "      <td>Good</td>\n",
       "      <td>Port Alberni Elementary</td>\n",
       "      <td>British Columbia Ministry of Environment</td>\n",
       "      <td>000102602</td>\n",
       "      <td>124000102602</td>\n",
       "    </tr>\n",
       "    <tr>\n",
       "      <th>1</th>\n",
       "      <td>48.286700</td>\n",
       "      <td>-124.620300</td>\n",
       "      <td>2020-11-07T00:00</td>\n",
       "      <td>OZONE</td>\n",
       "      <td>29.136</td>\n",
       "      <td>28</td>\n",
       "      <td>1</td>\n",
       "      <td>Good</td>\n",
       "      <td>Cheeka Peak</td>\n",
       "      <td>Washington Department of Ecology</td>\n",
       "      <td>530090013</td>\n",
       "      <td>840530090013</td>\n",
       "    </tr>\n",
       "    <tr>\n",
       "      <th>2</th>\n",
       "      <td>48.286700</td>\n",
       "      <td>-124.620300</td>\n",
       "      <td>2020-11-07T00:00</td>\n",
       "      <td>PM2.5</td>\n",
       "      <td>1.700</td>\n",
       "      <td>6</td>\n",
       "      <td>1</td>\n",
       "      <td>Good</td>\n",
       "      <td>Cheeka Peak</td>\n",
       "      <td>Washington Department of Ecology</td>\n",
       "      <td>530090013</td>\n",
       "      <td>840530090013</td>\n",
       "    </tr>\n",
       "    <tr>\n",
       "      <th>3</th>\n",
       "      <td>48.286700</td>\n",
       "      <td>-124.620300</td>\n",
       "      <td>2020-11-07T00:00</td>\n",
       "      <td>SO2</td>\n",
       "      <td>0.100</td>\n",
       "      <td>0</td>\n",
       "      <td>1</td>\n",
       "      <td>Good</td>\n",
       "      <td>Cheeka Peak</td>\n",
       "      <td>Washington Department of Ecology</td>\n",
       "      <td>530090013</td>\n",
       "      <td>840530090013</td>\n",
       "    </tr>\n",
       "    <tr>\n",
       "      <th>5</th>\n",
       "      <td>48.366058</td>\n",
       "      <td>-124.610046</td>\n",
       "      <td>2020-11-07T00:00</td>\n",
       "      <td>PM2.5</td>\n",
       "      <td>8.200</td>\n",
       "      <td>21</td>\n",
       "      <td>1</td>\n",
       "      <td>Good</td>\n",
       "      <td>Neah Bay 2-Makah Tribe</td>\n",
       "      <td>Washington Department of Ecology</td>\n",
       "      <td>530090015</td>\n",
       "      <td>840530090015</td>\n",
       "    </tr>\n",
       "    <tr>\n",
       "      <th>...</th>\n",
       "      <td>...</td>\n",
       "      <td>...</td>\n",
       "      <td>...</td>\n",
       "      <td>...</td>\n",
       "      <td>...</td>\n",
       "      <td>...</td>\n",
       "      <td>...</td>\n",
       "      <td>...</td>\n",
       "      <td>...</td>\n",
       "      <td>...</td>\n",
       "      <td>...</td>\n",
       "      <td>...</td>\n",
       "    </tr>\n",
       "    <tr>\n",
       "      <th>2963</th>\n",
       "      <td>49.019400</td>\n",
       "      <td>-55.802800</td>\n",
       "      <td>2020-11-07T00:00</td>\n",
       "      <td>OZONE</td>\n",
       "      <td>31.000</td>\n",
       "      <td>27</td>\n",
       "      <td>1</td>\n",
       "      <td>Good</td>\n",
       "      <td>Grand Falls Windsor</td>\n",
       "      <td>Newfoundland &amp; Labrador DEC</td>\n",
       "      <td>000010501</td>\n",
       "      <td>124000010501</td>\n",
       "    </tr>\n",
       "    <tr>\n",
       "      <th>2964</th>\n",
       "      <td>47.098991</td>\n",
       "      <td>-55.198521</td>\n",
       "      <td>2020-11-07T00:00</td>\n",
       "      <td>PM2.5</td>\n",
       "      <td>9.000</td>\n",
       "      <td>38</td>\n",
       "      <td>1</td>\n",
       "      <td>Good</td>\n",
       "      <td>Marystown/Burin</td>\n",
       "      <td>Environment Canada</td>\n",
       "      <td>000010901</td>\n",
       "      <td>124000010901</td>\n",
       "    </tr>\n",
       "    <tr>\n",
       "      <th>2965</th>\n",
       "      <td>47.652800</td>\n",
       "      <td>-52.816700</td>\n",
       "      <td>2020-11-07T00:00</td>\n",
       "      <td>OZONE</td>\n",
       "      <td>34.000</td>\n",
       "      <td>30</td>\n",
       "      <td>1</td>\n",
       "      <td>Good</td>\n",
       "      <td>St. John's</td>\n",
       "      <td>Newfoundland &amp; Labrador DEC</td>\n",
       "      <td>000010102</td>\n",
       "      <td>124000010102</td>\n",
       "    </tr>\n",
       "    <tr>\n",
       "      <th>2966</th>\n",
       "      <td>47.505000</td>\n",
       "      <td>-52.794700</td>\n",
       "      <td>2020-11-07T00:00</td>\n",
       "      <td>OZONE</td>\n",
       "      <td>36.000</td>\n",
       "      <td>33</td>\n",
       "      <td>1</td>\n",
       "      <td>Good</td>\n",
       "      <td>Mount Pearl</td>\n",
       "      <td>Newfoundland &amp; Labrador DEC</td>\n",
       "      <td>000010401</td>\n",
       "      <td>124000010401</td>\n",
       "    </tr>\n",
       "    <tr>\n",
       "      <th>2967</th>\n",
       "      <td>47.505000</td>\n",
       "      <td>-52.794700</td>\n",
       "      <td>2020-11-07T00:00</td>\n",
       "      <td>PM2.5</td>\n",
       "      <td>6.000</td>\n",
       "      <td>24</td>\n",
       "      <td>1</td>\n",
       "      <td>Good</td>\n",
       "      <td>Mount Pearl</td>\n",
       "      <td>Newfoundland &amp; Labrador DEC</td>\n",
       "      <td>000010401</td>\n",
       "      <td>124000010401</td>\n",
       "    </tr>\n",
       "  </tbody>\n",
       "</table>\n",
       "<p>2736 rows × 12 columns</p>\n",
       "</div>"
      ],
      "text/plain": [
       "       Latitude   Longitude      DateObserved ParameterName  Concentration  \\\n",
       "0     49.261014 -124.806628  2020-11-07T00:00         PM2.5          8.000   \n",
       "1     48.286700 -124.620300  2020-11-07T00:00         OZONE         29.136   \n",
       "2     48.286700 -124.620300  2020-11-07T00:00         PM2.5          1.700   \n",
       "3     48.286700 -124.620300  2020-11-07T00:00           SO2          0.100   \n",
       "5     48.366058 -124.610046  2020-11-07T00:00         PM2.5          8.200   \n",
       "...         ...         ...               ...           ...            ...   \n",
       "2963  49.019400  -55.802800  2020-11-07T00:00         OZONE         31.000   \n",
       "2964  47.098991  -55.198521  2020-11-07T00:00         PM2.5          9.000   \n",
       "2965  47.652800  -52.816700  2020-11-07T00:00         OZONE         34.000   \n",
       "2966  47.505000  -52.794700  2020-11-07T00:00         OZONE         36.000   \n",
       "2967  47.505000  -52.794700  2020-11-07T00:00         PM2.5          6.000   \n",
       "\n",
       "      AQI  CategoryNumber CategoryName            ReportingArea  \\\n",
       "0      26               1         Good  Port Alberni Elementary   \n",
       "1      28               1         Good              Cheeka Peak   \n",
       "2       6               1         Good              Cheeka Peak   \n",
       "3       0               1         Good              Cheeka Peak   \n",
       "5      21               1         Good   Neah Bay 2-Makah Tribe   \n",
       "...   ...             ...          ...                      ...   \n",
       "2963   27               1         Good      Grand Falls Windsor   \n",
       "2964   38               1         Good          Marystown/Burin   \n",
       "2965   30               1         Good               St. John's   \n",
       "2966   33               1         Good              Mount Pearl   \n",
       "2967   24               1         Good              Mount Pearl   \n",
       "\n",
       "                                        Source SiteNumber SiteNumberExtension  \n",
       "0     British Columbia Ministry of Environment  000102602        124000102602  \n",
       "1             Washington Department of Ecology  530090013        840530090013  \n",
       "2             Washington Department of Ecology  530090013        840530090013  \n",
       "3             Washington Department of Ecology  530090013        840530090013  \n",
       "5             Washington Department of Ecology  530090015        840530090015  \n",
       "...                                        ...        ...                 ...  \n",
       "2963               Newfoundland & Labrador DEC  000010501        124000010501  \n",
       "2964                        Environment Canada  000010901        124000010901  \n",
       "2965               Newfoundland & Labrador DEC  000010102        124000010102  \n",
       "2966               Newfoundland & Labrador DEC  000010401        124000010401  \n",
       "2967               Newfoundland & Labrador DEC  000010401        124000010401  \n",
       "\n",
       "[2736 rows x 12 columns]"
      ]
     },
     "execution_count": 9,
     "metadata": {},
     "output_type": "execute_result"
    }
   ],
   "source": [
    "data"
   ]
  },
  {
   "cell_type": "code",
   "execution_count": 10,
   "metadata": {
    "id": "z0Ehua5CnFlS"
   },
   "outputs": [],
   "source": [
    "i=1\n",
    "locations = []\n",
    "for g in data.groupby(['Latitude','Longitude']):\n",
    "  #print(i)\n",
    "  locations.append(g)\n",
    "  i=i+1"
   ]
  },
  {
   "cell_type": "code",
   "execution_count": 11,
   "metadata": {
    "id": "q8I5bSgjnJRJ"
   },
   "outputs": [],
   "source": [
    "#for getting the info of the max pollutant\n",
    "max_pollutant_info = []\n",
    "parameter = \"O3\"\n",
    "\n",
    "\n",
    "for loc in range(0,len(locations)):\n",
    "  max_pollutant_one_location = []\n",
    "  date_index = np.where(locations[loc][1]['DateObserved'].values==(max(locations[loc][1]['DateObserved'].values)))\n",
    "\n",
    "  #print(locations[loc][1]['AQI'].values) #printing all AQI values\n",
    "  index = np.where(locations[loc][1]['AQI'].values[date_index]==(max(locations[loc][1]['AQI'].values[date_index])))\n",
    "  index = np.array(index+date_index[0][0]).tolist()[0][0]\n",
    "\n",
    "  #print(index[0]) #checking if the max is chosen\n",
    "  #print(locations[loc][1]['ParameterName'].values[index], locations[loc][1]['CategoryName'].values[index]) #checking if the required values ar eprinted correctly\n",
    "  max_pollutant_one_location.append(index)\n",
    "  max_pollutant_one_location.append(np.array(date_index).tolist()[0][0])\n",
    "  max_pollutant_one_location.append(locations[loc][1]['DateObserved'].values[index])\n",
    "  max_pollutant_one_location.append(locations[loc][1]['Latitude'].values[index])\n",
    "  max_pollutant_one_location.append(locations[loc][1]['Longitude'].values[index])\n",
    "  max_pollutant_one_location.append(locations[loc][1]['ReportingArea'].values[index])\n",
    "  max_pollutant_one_location.append(locations[loc][1]['ParameterName'].values[index])\n",
    "  max_pollutant_one_location.append(locations[loc][1]['AQI'].values[index])\n",
    "  max_pollutant_one_location.append(locations[loc][1]['CategoryName'].values[index])\n",
    "\n",
    "  max_pollutant_info.append(max_pollutant_one_location)"
   ]
  },
  {
   "cell_type": "code",
   "execution_count": 38,
   "metadata": {
    "id": "QBKKPXQTnK7-"
   },
   "outputs": [],
   "source": [
    "#colors for different air quality groups\n",
    "icon_map = {\n",
    "    'Good': r\"icons/s1.png\",\n",
    "    'Moderate': r\"icons/s2.png\",\n",
    "    'Unhealthy for Sensitive Groups': r\"icons/s3.png\",\n",
    "    'Unhealthy': r\"icons/s3.png\",\n",
    "    'Very Unhealthy': r\"icons/s4.png\",\n",
    "    'Hazardous': r\"icons/s5.png\"\n",
    "}\n",
    "\n",
    "color_map = {\n",
    "    'Good': '#00e400',\n",
    "    'Moderate': 'ffff00',\n",
    "    'Unhealthy for Sensitive Groups': '#ff7e00',\n",
    "    'Unhealthy': '#ff0000',\n",
    "    'Very Unhealthy': '#8f3f97',\n",
    "    'Hazardous': '#7e0023'\n",
    "}\n",
    "\n",
    "#pollutant type\n",
    "pollutant = \"OZONE\"\n",
    "\n",
    "#radius of the circle in meters (converting from miles to meters)\n",
    "radius = 700 * 1.60934"
   ]
  },
  {
   "cell_type": "code",
   "execution_count": 41,
   "metadata": {},
   "outputs": [
    {
     "data": {
      "text/plain": [
       "' (<span style=\"color:#00e400;>Good</span>'"
      ]
     },
     "execution_count": 41,
     "metadata": {},
     "output_type": "execute_result"
    }
   ],
   "source": [
    "' (' + f'<span style=\"color:{color_map[max_pollutant_info[i][8]]};>' + locations[i][1]['CategoryName'].values.tolist()[j]+ '</span>'"
   ]
  },
  {
   "cell_type": "code",
   "execution_count": 45,
   "metadata": {
    "colab": {
     "base_uri": "https://localhost:8080/",
     "height": 397
    },
    "id": "9nnQlOXQnNVc",
    "outputId": "8f1aa33c-57b7-4eba-8156-0541f5f05302"
   },
   "outputs": [],
   "source": [
    "#display St.Louis map in the beginning\n",
    "lat = 38.580917\n",
    "lon = -90.244598\n",
    "#creates and stores the map in m\n",
    "m = folium.Map(location=[lat, lon], zoom_start=12, tiles=\"Stamen Terrain\", zoom_control=False)\n",
    "#m = folium.Map(location=[lat, lon], zoom_start=12, zoom_control=False,\n",
    "  #tiles = 'https://tiles.stadiamaps.com/tiles/osm_bright/{z}/{x}/{y}{r}.png?api_key=446b4cdf-1001-4780-83dd-1dabe1b99d5c',\n",
    "          #attr = '&copy; <a href=\"https://stadiamaps.com/\">Stadia Maps</a>, &copy; <a href=\"https://openmaptiles.org/\">OpenMapTiles</a> &copy; <a href=\"http://openstreetmap.org\">OpenStreetMap</a> contributors')\n",
    "\n",
    "\n",
    "for i in range(0,len(max_pollutant_info)):\n",
    "\n",
    "  popup_text = ''\n",
    "  for j in range(max_pollutant_info[i][1],len(locations[i][1])):\n",
    "    popup_text =  popup_text + '<b>' + locations[i][1]['ParameterName'].values.tolist()[j] + '</b>' + ': ' + str(locations[i][1]['AQI'].values.tolist()[j]) + ' (' + '<span style=\"color: '+ locations[i][1]['CategoryName'].values.tolist()[j] +';>' + locations[i][1]['CategoryName'].values.tolist()[j]+ '</span>' + ')'\n",
    "    popup_text = popup_text + '<br>'\n",
    "\n",
    "  iframe = folium.IFrame(popup_text, figsize=(3,0.6+(0.32*(len(locations[i][1])-max_pollutant_info[i][1]))))\n",
    "  popup = folium.Popup(iframe)\n",
    "\n",
    "  icon_path = icon_map[max_pollutant_info[i][8]]\n",
    "\n",
    "  icon = folium.features.CustomIcon(icon_image=icon_path ,icon_size=(30,52),icon_anchor=(15,30))\n",
    "\n",
    "  marker=folium.Marker([max_pollutant_info[i][3], max_pollutant_info[i][4]],\n",
    "                       icon=icon,\n",
    "                       tooltip='Dominant Pollutant: {}'.format(max_pollutant_info[i][6]),\n",
    "                       popup=popup).add_to(m)\n",
    "\n"
   ]
  },
  {
   "cell_type": "code",
   "execution_count": 46,
   "metadata": {
    "id": "ixHGUBPCnQ3U"
   },
   "outputs": [],
   "source": [
    "m.save('map.html')"
   ]
  },
  {
   "cell_type": "code",
   "execution_count": 58,
   "metadata": {
    "colab": {
     "base_uri": "https://localhost:8080/"
    },
    "id": "E5CDlKVpoN2v",
    "outputId": "bf1888a6-c594-478d-9c8e-a314d4c4849f"
   },
   "outputs": [
    {
     "data": {
      "text/plain": [
       "datetime.datetime(2020, 12, 1, 0, 0)"
      ]
     },
     "execution_count": 58,
     "metadata": {},
     "output_type": "execute_result"
    }
   ],
   "source": [
    "ct"
   ]
  },
  {
   "cell_type": "code",
   "execution_count": 59,
   "metadata": {
    "id": "oNGkLPKVoXIr"
   },
   "outputs": [],
   "source": [
    "dt = ct"
   ]
  },
  {
   "cell_type": "code",
   "execution_count": 64,
   "metadata": {
    "colab": {
     "base_uri": "https://localhost:8080/"
    },
    "id": "Jzeve3uqpFA6",
    "outputId": "9f52d103-ff05-49b7-c790-1c84e8aac800"
   },
   "outputs": [
    {
     "data": {
      "text/plain": [
       "datetime.date(2020, 12, 1)"
      ]
     },
     "execution_count": 64,
     "metadata": {},
     "output_type": "execute_result"
    }
   ],
   "source": [
    "ct.date()"
   ]
  },
  {
   "cell_type": "code",
   "execution_count": 65,
   "metadata": {
    "colab": {
     "base_uri": "https://localhost:8080/"
    },
    "id": "3X_Ej4I9pGKT",
    "outputId": "3b62c34a-ed02-4937-b9ca-592ed9a4cc09"
   },
   "outputs": [
    {
     "data": {
      "text/plain": [
       "datetime.date(2020, 12, 1)"
      ]
     },
     "execution_count": 65,
     "metadata": {},
     "output_type": "execute_result"
    }
   ],
   "source": [
    "dt.date()"
   ]
  },
  {
   "cell_type": "code",
   "execution_count": 69,
   "metadata": {
    "colab": {
     "base_uri": "https://localhost:8080/"
    },
    "id": "XC5J0Ee9pHD_",
    "outputId": "039e63eb-71e0-42e8-d9ae-d09e2c59cbc1"
   },
   "outputs": [
    {
     "data": {
      "text/plain": [
       "False"
      ]
     },
     "execution_count": 69,
     "metadata": {},
     "output_type": "execute_result"
    }
   ],
   "source": [
    "ct.date() == dt.date()"
   ]
  },
  {
   "cell_type": "code",
   "execution_count": null,
   "metadata": {
    "id": "GAuV0JLKpTM4"
   },
   "outputs": [],
   "source": []
  }
 ],
 "metadata": {
  "colab": {
   "collapsed_sections": [],
   "name": "Get Historical Data.ipynb",
   "provenance": []
  },
  "kernelspec": {
   "display_name": "Python 3",
   "language": "python",
   "name": "python3"
  },
  "language_info": {
   "codemirror_mode": {
    "name": "ipython",
    "version": 3
   },
   "file_extension": ".py",
   "mimetype": "text/x-python",
   "name": "python",
   "nbconvert_exporter": "python",
   "pygments_lexer": "ipython3",
   "version": "3.7.4"
  }
 },
 "nbformat": 4,
 "nbformat_minor": 1
}
