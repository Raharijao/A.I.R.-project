{
 "cells": [
  {
   "cell_type": "code",
   "execution_count": 7,
   "metadata": {
    "colab": {
     "base_uri": "https://localhost:8080/",
     "height": 142
    },
    "executionInfo": {
     "elapsed": 650,
     "status": "ok",
     "timestamp": 1636228931056,
     "user": {
      "displayName": "Urvashi Kishnani",
      "photoUrl": "https://lh3.googleusercontent.com/a-/AOh14GiiyRyE43V09YBCJtMRDf-aCs4zTV8X1OUZPznTdA=s64",
      "userId": "03408795309658870034"
     },
     "user_tz": 360
    },
    "id": "Pb-Qruy81l_3",
    "outputId": "f5a506b6-7cef-40cc-8c64-5ed00e9f940f"
   },
   "outputs": [
    {
     "data": {
      "text/html": [
       "<div>\n",
       "<style scoped>\n",
       "    .dataframe tbody tr th:only-of-type {\n",
       "        vertical-align: middle;\n",
       "    }\n",
       "\n",
       "    .dataframe tbody tr th {\n",
       "        vertical-align: top;\n",
       "    }\n",
       "\n",
       "    .dataframe thead th {\n",
       "        text-align: right;\n",
       "    }\n",
       "</style>\n",
       "<table border=\"1\" class=\"dataframe\">\n",
       "  <thead>\n",
       "    <tr style=\"text-align: right;\">\n",
       "      <th></th>\n",
       "      <th>DateObserved</th>\n",
       "      <th>HourObserved</th>\n",
       "      <th>LocalTimeZone</th>\n",
       "      <th>ReportingArea</th>\n",
       "      <th>StateCode</th>\n",
       "      <th>Latitude</th>\n",
       "      <th>Longitude</th>\n",
       "      <th>ParameterName</th>\n",
       "      <th>AQI</th>\n",
       "      <th>CategoryNumber</th>\n",
       "      <th>CategoryName</th>\n",
       "    </tr>\n",
       "  </thead>\n",
       "  <tbody>\n",
       "    <tr>\n",
       "      <th>0</th>\n",
       "      <td>2021-11-06</td>\n",
       "      <td>13</td>\n",
       "      <td>CST</td>\n",
       "      <td>Saint Louis</td>\n",
       "      <td>MO</td>\n",
       "      <td>38.75</td>\n",
       "      <td>-90.383</td>\n",
       "      <td>O3</td>\n",
       "      <td>27</td>\n",
       "      <td>1</td>\n",
       "      <td>Good</td>\n",
       "    </tr>\n",
       "    <tr>\n",
       "      <th>1</th>\n",
       "      <td>2021-11-06</td>\n",
       "      <td>13</td>\n",
       "      <td>CST</td>\n",
       "      <td>Saint Louis</td>\n",
       "      <td>MO</td>\n",
       "      <td>38.75</td>\n",
       "      <td>-90.383</td>\n",
       "      <td>PM2.5</td>\n",
       "      <td>52</td>\n",
       "      <td>2</td>\n",
       "      <td>Moderate</td>\n",
       "    </tr>\n",
       "    <tr>\n",
       "      <th>2</th>\n",
       "      <td>2021-11-06</td>\n",
       "      <td>13</td>\n",
       "      <td>CST</td>\n",
       "      <td>Saint Louis</td>\n",
       "      <td>MO</td>\n",
       "      <td>38.75</td>\n",
       "      <td>-90.383</td>\n",
       "      <td>PM10</td>\n",
       "      <td>31</td>\n",
       "      <td>1</td>\n",
       "      <td>Good</td>\n",
       "    </tr>\n",
       "  </tbody>\n",
       "</table>\n",
       "</div>"
      ],
      "text/plain": [
       "  DateObserved  HourObserved LocalTimeZone  ... AQI CategoryNumber  CategoryName\n",
       "0  2021-11-06             13           CST  ...  27              1          Good\n",
       "1  2021-11-06             13           CST  ...  52              2      Moderate\n",
       "2  2021-11-06             13           CST  ...  31              1          Good\n",
       "\n",
       "[3 rows x 11 columns]"
      ]
     },
     "execution_count": 7,
     "metadata": {},
     "output_type": "execute_result"
    }
   ],
   "source": [
    "import pandas as pd\n",
    "latitude = '38.580917'\n",
    "longitude = '-90.244598'\n",
    "distance = '25'\n",
    "API_KEY = '211FD3EB-9CFC-47AE-9657-FD48194D0382'\n",
    "url = 'https://www.airnowapi.org/aq/observation/latLong/current/?format=text/csv&latitude=' + latitude + '&longitude=' + longitude + '&distance=' + distance + '&API_KEY=' + API_KEY\n",
    "data = pd.read_csv(url)\n",
    "data"
   ]
  },
  {
   "cell_type": "code",
   "execution_count": null,
   "metadata": {
    "id": "UhwyZNHI_ocH"
   },
   "outputs": [],
   "source": []
  },
  {
   "cell_type": "code",
   "execution_count": 36,
   "metadata": {
    "colab": {
     "base_uri": "https://localhost:8080/",
     "height": 35
    },
    "executionInfo": {
     "elapsed": 129,
     "status": "ok",
     "timestamp": 1636230650272,
     "user": {
      "displayName": "Urvashi Kishnani",
      "photoUrl": "https://lh3.googleusercontent.com/a-/AOh14GiiyRyE43V09YBCJtMRDf-aCs4zTV8X1OUZPznTdA=s64",
      "userId": "03408795309658870034"
     },
     "user_tz": 360
    },
    "id": "zL0tIFmu5fXy",
    "outputId": "96472929-f1d2-4a02-f1b1-52919595f3fb"
   },
   "outputs": [
    {
     "data": {
      "application/vnd.google.colaboratory.intrinsic+json": {
       "type": "string"
      },
      "text/plain": [
       "'Good'"
      ]
     },
     "execution_count": 36,
     "metadata": {},
     "output_type": "execute_result"
    }
   ],
   "source": [
    "data.query('ParameterName==\"O3\"')['CategoryName'][0]\n",
    "\n"
   ]
  },
  {
   "cell_type": "code",
   "execution_count": null,
   "metadata": {
    "id": "jO3tmYbA1toC"
   },
   "outputs": [],
   "source": [
    "!pip install folium\n",
    "import folium"
   ]
  },
  {
   "cell_type": "code",
   "execution_count": 38,
   "metadata": {
    "colab": {
     "base_uri": "https://localhost:8080/",
     "height": 866
    },
    "executionInfo": {
     "elapsed": 120,
     "status": "ok",
     "timestamp": 1636230666652,
     "user": {
      "displayName": "Urvashi Kishnani",
      "photoUrl": "https://lh3.googleusercontent.com/a-/AOh14GiiyRyE43V09YBCJtMRDf-aCs4zTV8X1OUZPznTdA=s64",
      "userId": "03408795309658870034"
     },
     "user_tz": 360
    },
    "id": "hb3wrnsq1zfy",
    "outputId": "207ee206-603a-46c6-a8c2-04f03b9c7188"
   },
   "outputs": [
    {
     "data": {
      "text/html": [
       "<div style=\"width:100%;\"><div style=\"position:relative;width:100%;height:0;padding-bottom:60%;\"><span style=\"color:#565656\">Make this Notebook Trusted to load map: File -> Trust Notebook</span><iframe src=\"about:blank\" style=\"position:absolute;width:100%;height:100%;left:0;top:0;border:none !important;\" data-html=%3C%21DOCTYPE%20html%3E%0A%3Chead%3E%20%20%20%20%0A%20%20%20%20%3Cmeta%20http-equiv%3D%22content-type%22%20content%3D%22text/html%3B%20charset%3DUTF-8%22%20/%3E%0A%20%20%20%20%3Cscript%3EL_PREFER_CANVAS%3Dfalse%3B%20L_NO_TOUCH%3Dfalse%3B%20L_DISABLE_3D%3Dfalse%3B%3C/script%3E%0A%20%20%20%20%3Cscript%20src%3D%22https%3A//cdn.jsdelivr.net/npm/leaflet%401.4.0/dist/leaflet.js%22%3E%3C/script%3E%0A%20%20%20%20%3Cscript%20src%3D%22https%3A//code.jquery.com/jquery-1.12.4.min.js%22%3E%3C/script%3E%0A%20%20%20%20%3Cscript%20src%3D%22https%3A//maxcdn.bootstrapcdn.com/bootstrap/3.2.0/js/bootstrap.min.js%22%3E%3C/script%3E%0A%20%20%20%20%3Cscript%20src%3D%22https%3A//cdnjs.cloudflare.com/ajax/libs/Leaflet.awesome-markers/2.0.2/leaflet.awesome-markers.js%22%3E%3C/script%3E%0A%20%20%20%20%3Clink%20rel%3D%22stylesheet%22%20href%3D%22https%3A//cdn.jsdelivr.net/npm/leaflet%401.4.0/dist/leaflet.css%22/%3E%0A%20%20%20%20%3Clink%20rel%3D%22stylesheet%22%20href%3D%22https%3A//maxcdn.bootstrapcdn.com/bootstrap/3.2.0/css/bootstrap.min.css%22/%3E%0A%20%20%20%20%3Clink%20rel%3D%22stylesheet%22%20href%3D%22https%3A//maxcdn.bootstrapcdn.com/bootstrap/3.2.0/css/bootstrap-theme.min.css%22/%3E%0A%20%20%20%20%3Clink%20rel%3D%22stylesheet%22%20href%3D%22https%3A//maxcdn.bootstrapcdn.com/font-awesome/4.6.3/css/font-awesome.min.css%22/%3E%0A%20%20%20%20%3Clink%20rel%3D%22stylesheet%22%20href%3D%22https%3A//cdnjs.cloudflare.com/ajax/libs/Leaflet.awesome-markers/2.0.2/leaflet.awesome-markers.css%22/%3E%0A%20%20%20%20%3Clink%20rel%3D%22stylesheet%22%20href%3D%22https%3A//rawcdn.githack.com/python-visualization/folium/master/folium/templates/leaflet.awesome.rotate.css%22/%3E%0A%20%20%20%20%3Cstyle%3Ehtml%2C%20body%20%7Bwidth%3A%20100%25%3Bheight%3A%20100%25%3Bmargin%3A%200%3Bpadding%3A%200%3B%7D%3C/style%3E%0A%20%20%20%20%3Cstyle%3E%23map%20%7Bposition%3Aabsolute%3Btop%3A0%3Bbottom%3A0%3Bright%3A0%3Bleft%3A0%3B%7D%3C/style%3E%0A%20%20%20%20%0A%20%20%20%20%3Cmeta%20name%3D%22viewport%22%20content%3D%22width%3Ddevice-width%2C%0A%20%20%20%20%20%20%20%20initial-scale%3D1.0%2C%20maximum-scale%3D1.0%2C%20user-scalable%3Dno%22%20/%3E%0A%20%20%20%20%3Cstyle%3E%23map_eff6c325d1714948afd6aaa4b6f3d2bf%20%7B%0A%20%20%20%20%20%20%20%20position%3A%20relative%3B%0A%20%20%20%20%20%20%20%20width%3A%20100.0%25%3B%0A%20%20%20%20%20%20%20%20height%3A%20100.0%25%3B%0A%20%20%20%20%20%20%20%20left%3A%200.0%25%3B%0A%20%20%20%20%20%20%20%20top%3A%200.0%25%3B%0A%20%20%20%20%20%20%20%20%7D%0A%20%20%20%20%3C/style%3E%0A%3C/head%3E%0A%3Cbody%3E%20%20%20%20%0A%20%20%20%20%0A%20%20%20%20%3Cdiv%20class%3D%22folium-map%22%20id%3D%22map_eff6c325d1714948afd6aaa4b6f3d2bf%22%20%3E%3C/div%3E%0A%3C/body%3E%0A%3Cscript%3E%20%20%20%20%0A%20%20%20%20%0A%20%20%20%20%0A%20%20%20%20%20%20%20%20var%20bounds%20%3D%20null%3B%0A%20%20%20%20%0A%0A%20%20%20%20var%20map_eff6c325d1714948afd6aaa4b6f3d2bf%20%3D%20L.map%28%0A%20%20%20%20%20%20%20%20%27map_eff6c325d1714948afd6aaa4b6f3d2bf%27%2C%20%7B%0A%20%20%20%20%20%20%20%20center%3A%20%5B38.580917%2C%20-90.244598%5D%2C%0A%20%20%20%20%20%20%20%20zoom%3A%2015%2C%0A%20%20%20%20%20%20%20%20maxBounds%3A%20bounds%2C%0A%20%20%20%20%20%20%20%20layers%3A%20%5B%5D%2C%0A%20%20%20%20%20%20%20%20worldCopyJump%3A%20false%2C%0A%20%20%20%20%20%20%20%20crs%3A%20L.CRS.EPSG3857%2C%0A%20%20%20%20%20%20%20%20zoomControl%3A%20true%2C%0A%20%20%20%20%20%20%20%20%7D%29%3B%0A%0A%0A%20%20%20%20%0A%20%20%20%20var%20tile_layer_0896054c0960484b935293fd4b3d8be4%20%3D%20L.tileLayer%28%0A%20%20%20%20%20%20%20%20%27https%3A//stamen-tiles-%7Bs%7D.a.ssl.fastly.net/terrain/%7Bz%7D/%7Bx%7D/%7By%7D.jpg%27%2C%0A%20%20%20%20%20%20%20%20%7B%0A%20%20%20%20%20%20%20%20%22attribution%22%3A%20null%2C%0A%20%20%20%20%20%20%20%20%22detectRetina%22%3A%20false%2C%0A%20%20%20%20%20%20%20%20%22maxNativeZoom%22%3A%2018%2C%0A%20%20%20%20%20%20%20%20%22maxZoom%22%3A%2018%2C%0A%20%20%20%20%20%20%20%20%22minZoom%22%3A%200%2C%0A%20%20%20%20%20%20%20%20%22noWrap%22%3A%20false%2C%0A%20%20%20%20%20%20%20%20%22opacity%22%3A%201%2C%0A%20%20%20%20%20%20%20%20%22subdomains%22%3A%20%22abc%22%2C%0A%20%20%20%20%20%20%20%20%22tms%22%3A%20false%0A%7D%29.addTo%28map_eff6c325d1714948afd6aaa4b6f3d2bf%29%3B%0A%20%20%20%20%0A%0A%20%20%20%20%20%20%20%20%20%20%20%20var%20circle_d648d548134b4e839863ddbfb6a85b89%20%3D%20L.circle%28%0A%20%20%20%20%20%20%20%20%20%20%20%20%20%20%20%20%5B38.580917%2C%20-90.244598%5D%2C%0A%20%20%20%20%20%20%20%20%20%20%20%20%20%20%20%20%7B%0A%20%20%22bubblingMouseEvents%22%3A%20true%2C%0A%20%20%22color%22%3A%20%22%2300e400%22%2C%0A%20%20%22dashArray%22%3A%20null%2C%0A%20%20%22dashOffset%22%3A%20null%2C%0A%20%20%22fill%22%3A%20true%2C%0A%20%20%22fillColor%22%3A%20%22%2300e400%22%2C%0A%20%20%22fillOpacity%22%3A%200.3%2C%0A%20%20%22fillRule%22%3A%20%22evenodd%22%2C%0A%20%20%22lineCap%22%3A%20%22round%22%2C%0A%20%20%22lineJoin%22%3A%20%22round%22%2C%0A%20%20%22opacity%22%3A%200.3%2C%0A%20%20%22radius%22%3A%2040.2335%2C%0A%20%20%22stroke%22%3A%20true%2C%0A%20%20%22weight%22%3A%203%0A%7D%0A%20%20%20%20%20%20%20%20%20%20%20%20%20%20%20%20%29%0A%20%20%20%20%20%20%20%20%20%20%20%20%20%20%20%20.addTo%28map_eff6c325d1714948afd6aaa4b6f3d2bf%29%3B%0A%20%20%20%20%20%20%20%20%20%20%20%20%0A%3C/script%3E onload=\"this.contentDocument.open();this.contentDocument.write(    decodeURIComponent(this.getAttribute('data-html')));this.contentDocument.close();\" allowfullscreen webkitallowfullscreen mozallowfullscreen></iframe></div></div>"
      ],
      "text/plain": [
       "<folium.folium.Map at 0x7fa7b4b10550>"
      ]
     },
     "execution_count": 38,
     "metadata": {},
     "output_type": "execute_result"
    }
   ],
   "source": [
    "lat = 38.580917\n",
    "lon = -90.244598\n",
    "m = folium.Map(location=[lat, lon], zoom_start=15, tiles=\"Stamen Terrain\")\n",
    "\n",
    "color_map = {\n",
    "    'Good': '#00e400',\n",
    "    'Moderate': 'ffff00',\n",
    "    'Unhealthy for Sensitive Groups': '#ff7e00',\n",
    "    'Unhealthy': '#ff0000',\n",
    "    'Very Unhealthy': '#8f3f97',\n",
    "    'Hazardous': '#7e0023'\n",
    "}\n",
    "\n",
    "parameter = \"O3\"\n",
    "\n",
    "#location area is in meters\n",
    "location_area = int(distance) * 1.60934\n",
    "aqi = color_map[data.loc[data['ParameterName'] == parameter, 'CategoryName'][0]]\n",
    "marker = folium.Circle(\n",
    "    location=[lat, lon],\n",
    "    color=aqi,\n",
    "    radius=location_area,\n",
    "    fill=True,\n",
    "    opacity=0.3,\n",
    "    fill_opacity=0.3,\n",
    "   # tooltip='{}: {}'.format(city_name, city_ratio)\n",
    ").add_to(m)\n",
    "\n",
    "m"
   ]
  },
  {
   "cell_type": "code",
   "execution_count": 39,
   "metadata": {
    "executionInfo": {
     "elapsed": 122,
     "status": "ok",
     "timestamp": 1636231465670,
     "user": {
      "displayName": "Urvashi Kishnani",
      "photoUrl": "https://lh3.googleusercontent.com/a-/AOh14GiiyRyE43V09YBCJtMRDf-aCs4zTV8X1OUZPznTdA=s64",
      "userId": "03408795309658870034"
     },
     "user_tz": 360
    },
    "id": "1CE2e2Dr_ped"
   },
   "outputs": [],
   "source": [
    "m.save('templates/map.html')"
   ]
  }
 ],
 "metadata": {
  "colab": {
   "authorship_tag": "ABX9TyPSQ45rq4MRw+QJyL1XPNEo",
   "name": "Feed_with_Map.ipynb",
   "provenance": []
  },
  "kernelspec": {
   "display_name": "Python 3",
   "language": "python",
   "name": "python3"
  },
  "language_info": {
   "codemirror_mode": {
    "name": "ipython",
    "version": 3
   },
   "file_extension": ".py",
   "mimetype": "text/x-python",
   "name": "python",
   "nbconvert_exporter": "python",
   "pygments_lexer": "ipython3",
   "version": "3.7.4"
  }
 },
 "nbformat": 4,
 "nbformat_minor": 1
}
