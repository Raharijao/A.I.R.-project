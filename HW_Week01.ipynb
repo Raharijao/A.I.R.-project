{
  "nbformat": 4,
  "nbformat_minor": 0,
  "metadata": {
    "colab": {
      "name": "HW_Week01",
      "provenance": [],
      "collapsed_sections": [],
      "include_colab_link": true
    },
    "kernelspec": {
      "name": "python3",
      "display_name": "Python 3"
    },
    "language_info": {
      "name": "python"
    }
  },
  "cells": [
    {
      "cell_type": "markdown",
      "metadata": {
        "id": "view-in-github",
        "colab_type": "text"
      },
      "source": [
        "<a href=\"https://colab.research.google.com/github/Raharijao/A.I.R.-project/blob/main/HW_Week01.ipynb\" target=\"_parent\"><img src=\"https://colab.research.google.com/assets/colab-badge.svg\" alt=\"Open In Colab\"/></a>"
      ]
    },
    {
      "cell_type": "markdown",
      "source": [
        "# Week 1 Homework\n",
        "Please write Python programs and find solutions to the following problems:"
      ],
      "metadata": {
        "id": "_3073i6ys9N0"
      }
    },
    {
      "cell_type": "markdown",
      "source": [
        "1. Calculate the first 10 powers of 2: $2^1, 2^2, ..., 2^{10}$."
      ],
      "metadata": {
        "id": "I-jWNO1ytBkH"
      }
    },
    {
      "cell_type": "code",
      "source": [
        "for i in range(11):\n",
        "  res = 2**i\n",
        "  print(\"2 to the power of \", i, \"is: \", res)"
      ],
      "metadata": {
        "id": "WUdfehYFtBmh",
        "outputId": "858db789-c38c-469d-d199-86ebf1939192",
        "colab": {
          "base_uri": "https://localhost:8080/"
        }
      },
      "execution_count": null,
      "outputs": [
        {
          "output_type": "stream",
          "name": "stdout",
          "text": [
            "2 to the power of  0 is:  1\n",
            "2 to the power of  1 is:  2\n",
            "2 to the power of  2 is:  4\n",
            "2 to the power of  3 is:  8\n",
            "2 to the power of  4 is:  16\n",
            "2 to the power of  5 is:  32\n",
            "2 to the power of  6 is:  64\n",
            "2 to the power of  7 is:  128\n",
            "2 to the power of  8 is:  256\n",
            "2 to the power of  9 is:  512\n",
            "2 to the power of  10 is:  1024\n"
          ]
        }
      ]
    },
    {
      "cell_type": "markdown",
      "source": [
        "2. Extract the names from the following string:"
      ],
      "metadata": {
        "id": "jJjaCEOHtGVb"
      }
    },
    {
      "cell_type": "code",
      "source": [
        "str1 = \"  Alice,   Bob,   Charlie,   David    \"\n",
        "\n",
        "str1.split(\",   \")\n"
      ],
      "metadata": {
        "id": "Tspt7nHctUwa",
        "outputId": "61308154-30ba-412c-8327-718dc963097b",
        "colab": {
          "base_uri": "https://localhost:8080/"
        }
      },
      "execution_count": null,
      "outputs": [
        {
          "output_type": "execute_result",
          "data": {
            "text/plain": [
              "['  Alice', 'Bob', 'Charlie', 'David    ']"
            ]
          },
          "metadata": {},
          "execution_count": 5
        }
      ]
    },
    {
      "cell_type": "markdown",
      "source": [
        "Please convert the completed notebook to a PDF file and submit it to the assignment section on Blackboard by **Wednesday, Feburary 09 at 11:59pm**. "
      ],
      "metadata": {
        "id": "vnvtZhd4ta_1"
      }
    },
    {
      "cell_type": "code",
      "source": [
        ""
      ],
      "metadata": {
        "id": "kqJBGU6CuzK3"
      },
      "execution_count": null,
      "outputs": []
    }
  ]
}